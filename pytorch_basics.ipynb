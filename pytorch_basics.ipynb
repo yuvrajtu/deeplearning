{
  "nbformat": 4,
  "nbformat_minor": 0,
  "metadata": {
    "colab": {
      "name": "pytorch_basics.ipynb",
      "version": "0.3.2",
      "provenance": [],
      "collapsed_sections": [],
      "include_colab_link": true
    },
    "kernelspec": {
      "name": "python3",
      "display_name": "Python 3"
    }
  },
  "cells": [
    {
      "cell_type": "markdown",
      "metadata": {
        "id": "view-in-github",
        "colab_type": "text"
      },
      "source": [
        "<a href=\"https://colab.research.google.com/github/yuvrajtu/deeplearning/blob/master/pytorch_basics.ipynb\" target=\"_parent\"><img src=\"https://colab.research.google.com/assets/colab-badge.svg\" alt=\"Open In Colab\"/></a>"
      ]
    },
    {
      "cell_type": "code",
      "metadata": {
        "id": "Owx5h5uKfnbY",
        "colab_type": "code",
        "colab": {
          "base_uri": "https://localhost:8080/",
          "height": 34
        },
        "outputId": "b1b54b63-de0b-4596-cb81-7dc032ba7124"
      },
      "source": [
        "#question1_matrix_multiplication\n",
        "import torch\n",
        "def activation(x):\n",
        "    \"\"\" Sigmoid activation function \n",
        "    \n",
        "        Arguments\n",
        "        ---------\n",
        "        x: torch.Tensor\n",
        "    \"\"\"\n",
        "    return 1/(1+torch.exp(-x))\n",
        "  \n",
        "torch.manual_seed(7)\n",
        "features = torch.randn((1, 5))\n",
        "weights = torch.randn_like(features)\n",
        "bias = torch.randn((1, 1))\n",
        "weights=weights.reshape(5,1)\n",
        "print(torch.mm(features,weights))"
      ],
      "execution_count": 4,
      "outputs": [
        {
          "output_type": "stream",
          "text": [
            "tensor([[-1.9796]])\n"
          ],
          "name": "stdout"
        }
      ]
    }
  ]
}