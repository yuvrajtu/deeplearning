{
  "nbformat": 4,
  "nbformat_minor": 0,
  "metadata": {
    "colab": {
      "name": "ZSCHallenge.ipynb",
      "version": "0.3.2",
      "provenance": [],
      "collapsed_sections": [],
      "include_colab_link": true
    },
    "kernelspec": {
      "name": "python3",
      "display_name": "Python 3"
    }
  },
  "cells": [
    {
      "cell_type": "markdown",
      "metadata": {
        "id": "view-in-github",
        "colab_type": "text"
      },
      "source": [
        "<a href=\"https://colab.research.google.com/github/yuvrajtu/deeplearning/blob/master/ZSCHallenge.ipynb\" target=\"_parent\"><img src=\"https://colab.research.google.com/assets/colab-badge.svg\" alt=\"Open In Colab\"/></a>"
      ]
    },
    {
      "cell_type": "code",
      "metadata": {
        "id": "bNZkkkvhPRP7",
        "colab_type": "code",
        "outputId": "206d9403-4bfc-41b9-bcea-297263827fa6",
        "colab": {
          "base_uri": "https://localhost:8080/",
          "height": 34
        }
      },
      "source": [
        "from google.colab import drive\n",
        "drive.mount('/content/drive')"
      ],
      "execution_count": 124,
      "outputs": [
        {
          "output_type": "stream",
          "text": [
            "Drive already mounted at /content/drive; to attempt to forcibly remount, call drive.mount(\"/content/drive\", force_remount=True).\n"
          ],
          "name": "stdout"
        }
      ]
    },
    {
      "cell_type": "code",
      "metadata": {
        "id": "lXQ_xdRpo9K1",
        "colab_type": "code",
        "outputId": "b8a34c1b-890b-42e2-d763-abc1512d282f",
        "colab": {
          "base_uri": "https://localhost:8080/",
          "height": 299
        }
      },
      "source": [
        "import pandas as pd\n",
        "df=pd.read_csv(\"/content/drive/My Drive/zschallenge/data.csv\")\n",
        "feature_all=['match_event_id',           \n",
        "'location_x',               \n",
        "'location_y',                \n",
        "'remaining_min',             \n",
        "'power_of_shot',             \n",
        "'knockout_match',            \n",
        "'game_season',               \n",
        "'remaining_sec',             \n",
        "'distance_of_shot',          \n",
        "'is_goal',                   \n",
        "'area_of_shot',              \n",
        "'shot_basics',               \n",
        "'range_of_shot',            \n",
        "'team_name',                \n",
        "'date_of_game',              \n",
        "'home/away',                \n",
        "'shot_id_number',           \n",
        "'lat/lng',                 \n",
        "'type_of_shot',             \n",
        "'type_of_combined_shot',   \n",
        "'match_id',                     \n",
        "'team_id']\n",
        "df_new=df[feature_all]\n",
        "df_new.tail()\n",
        "\n",
        "# df2=pd.read_csv(\"/content/drive/My Drive/zschallenge/sample_submission.csv\")\n",
        "# df2.head(10)"
      ],
      "execution_count": 137,
      "outputs": [
        {
          "output_type": "execute_result",
          "data": {
            "text/html": [
              "<div>\n",
              "<style scoped>\n",
              "    .dataframe tbody tr th:only-of-type {\n",
              "        vertical-align: middle;\n",
              "    }\n",
              "\n",
              "    .dataframe tbody tr th {\n",
              "        vertical-align: top;\n",
              "    }\n",
              "\n",
              "    .dataframe thead th {\n",
              "        text-align: right;\n",
              "    }\n",
              "</style>\n",
              "<table border=\"1\" class=\"dataframe\">\n",
              "  <thead>\n",
              "    <tr style=\"text-align: right;\">\n",
              "      <th></th>\n",
              "      <th>match_event_id</th>\n",
              "      <th>location_x</th>\n",
              "      <th>location_y</th>\n",
              "      <th>remaining_min</th>\n",
              "      <th>power_of_shot</th>\n",
              "      <th>knockout_match</th>\n",
              "      <th>game_season</th>\n",
              "      <th>remaining_sec</th>\n",
              "      <th>distance_of_shot</th>\n",
              "      <th>is_goal</th>\n",
              "      <th>area_of_shot</th>\n",
              "      <th>shot_basics</th>\n",
              "      <th>range_of_shot</th>\n",
              "      <th>team_name</th>\n",
              "      <th>date_of_game</th>\n",
              "      <th>home/away</th>\n",
              "      <th>shot_id_number</th>\n",
              "      <th>lat/lng</th>\n",
              "      <th>type_of_shot</th>\n",
              "      <th>type_of_combined_shot</th>\n",
              "      <th>match_id</th>\n",
              "      <th>team_id</th>\n",
              "    </tr>\n",
              "  </thead>\n",
              "  <tbody>\n",
              "    <tr>\n",
              "      <th>30692</th>\n",
              "      <td>397.0</td>\n",
              "      <td>1.0</td>\n",
              "      <td>48.0</td>\n",
              "      <td>6.0</td>\n",
              "      <td>4.0</td>\n",
              "      <td>1.0</td>\n",
              "      <td>1999-00</td>\n",
              "      <td>5.0</td>\n",
              "      <td>24.0</td>\n",
              "      <td>0.0</td>\n",
              "      <td>Center(C)</td>\n",
              "      <td>NaN</td>\n",
              "      <td>Less Than 8 ft.</td>\n",
              "      <td>Manchester United</td>\n",
              "      <td>2000-06-19</td>\n",
              "      <td>MANU vs. IND</td>\n",
              "      <td>NaN</td>\n",
              "      <td>42.982923, -71.446094</td>\n",
              "      <td>shot - 1</td>\n",
              "      <td>NaN</td>\n",
              "      <td>49900088</td>\n",
              "      <td>1610612747</td>\n",
              "    </tr>\n",
              "    <tr>\n",
              "      <th>30693</th>\n",
              "      <td>398.0</td>\n",
              "      <td>0.0</td>\n",
              "      <td>0.0</td>\n",
              "      <td>6.0</td>\n",
              "      <td>4.0</td>\n",
              "      <td>1.0</td>\n",
              "      <td>1999-00</td>\n",
              "      <td>5.0</td>\n",
              "      <td>20.0</td>\n",
              "      <td>NaN</td>\n",
              "      <td>Center(C)</td>\n",
              "      <td>Goal Area</td>\n",
              "      <td>Less Than 8 ft.</td>\n",
              "      <td>Manchester United</td>\n",
              "      <td>2000-06-19</td>\n",
              "      <td>MANU vs. IND</td>\n",
              "      <td>30694.0</td>\n",
              "      <td>42.982923, -71.446094</td>\n",
              "      <td>shot - 49</td>\n",
              "      <td>NaN</td>\n",
              "      <td>49900088</td>\n",
              "      <td>1610612747</td>\n",
              "    </tr>\n",
              "    <tr>\n",
              "      <th>30694</th>\n",
              "      <td>426.0</td>\n",
              "      <td>-134.0</td>\n",
              "      <td>166.0</td>\n",
              "      <td>3.0</td>\n",
              "      <td>4.0</td>\n",
              "      <td>1.0</td>\n",
              "      <td>1999-00</td>\n",
              "      <td>28.0</td>\n",
              "      <td>41.0</td>\n",
              "      <td>1.0</td>\n",
              "      <td>Left Side Center(LC)</td>\n",
              "      <td>Mid Range</td>\n",
              "      <td>16-24 ft.</td>\n",
              "      <td>Manchester United</td>\n",
              "      <td>2000-06-19</td>\n",
              "      <td>MANU vs. IND</td>\n",
              "      <td>30695.0</td>\n",
              "      <td>NaN</td>\n",
              "      <td>NaN</td>\n",
              "      <td>shot - 3</td>\n",
              "      <td>49900088</td>\n",
              "      <td>1610612747</td>\n",
              "    </tr>\n",
              "    <tr>\n",
              "      <th>30695</th>\n",
              "      <td>448.0</td>\n",
              "      <td>31.0</td>\n",
              "      <td>267.0</td>\n",
              "      <td>2.0</td>\n",
              "      <td>4.0</td>\n",
              "      <td>1.0</td>\n",
              "      <td>1999-00</td>\n",
              "      <td>10.0</td>\n",
              "      <td>46.0</td>\n",
              "      <td>0.0</td>\n",
              "      <td>Center(C)</td>\n",
              "      <td>Penalty Spot</td>\n",
              "      <td>NaN</td>\n",
              "      <td>Manchester United</td>\n",
              "      <td>2000-06-19</td>\n",
              "      <td>MANU vs. IND</td>\n",
              "      <td>30696.0</td>\n",
              "      <td>42.982923, -71.446094</td>\n",
              "      <td>shot - 26</td>\n",
              "      <td>NaN</td>\n",
              "      <td>49900088</td>\n",
              "      <td>1610612747</td>\n",
              "    </tr>\n",
              "    <tr>\n",
              "      <th>30696</th>\n",
              "      <td>471.0</td>\n",
              "      <td>1.0</td>\n",
              "      <td>NaN</td>\n",
              "      <td>0.0</td>\n",
              "      <td>4.0</td>\n",
              "      <td>1.0</td>\n",
              "      <td>1999-00</td>\n",
              "      <td>39.0</td>\n",
              "      <td>27.0</td>\n",
              "      <td>0.0</td>\n",
              "      <td>Center(C)</td>\n",
              "      <td>Goal Line</td>\n",
              "      <td>Less Than 8 ft.</td>\n",
              "      <td>Manchester United</td>\n",
              "      <td>2000-06-19</td>\n",
              "      <td>MANU vs. IND</td>\n",
              "      <td>30697.0</td>\n",
              "      <td>42.982923, -71.446094</td>\n",
              "      <td>shot - 45</td>\n",
              "      <td>NaN</td>\n",
              "      <td>49900088</td>\n",
              "      <td>1610612747</td>\n",
              "    </tr>\n",
              "  </tbody>\n",
              "</table>\n",
              "</div>"
            ],
            "text/plain": [
              "       match_event_id  location_x  ...  match_id     team_id\n",
              "30692           397.0         1.0  ...  49900088  1610612747\n",
              "30693           398.0         0.0  ...  49900088  1610612747\n",
              "30694           426.0      -134.0  ...  49900088  1610612747\n",
              "30695           448.0        31.0  ...  49900088  1610612747\n",
              "30696           471.0         1.0  ...  49900088  1610612747\n",
              "\n",
              "[5 rows x 22 columns]"
            ]
          },
          "metadata": {
            "tags": []
          },
          "execution_count": 137
        }
      ]
    },
    {
      "cell_type": "code",
      "metadata": {
        "id": "mm2UGs9GqQ6Q",
        "colab_type": "code",
        "colab": {}
      },
      "source": [
        "# df.groupby(['is_goal']).match_event_id.count()\n",
        "# df.isnull().tail()\n",
        "# df.notnull().tail()\n",
        "df.isnull().sum()\n",
        "# df.shape\n",
        "df_new=df_new[df_new.is_goal.notnull()]\n",
        "# test.isnull().sum()\n",
        "# def pivot_feature(feature):\n",
        "#     pivot = df_new.pivot_table(index=feature,columns='is_goal',values='shot_id_number',aggfunc='count',margins=True)\n",
        "#     pivot.columns=[\"is_goal\",\"Not\",\"total\"]\n",
        "#     pivot['SR']=pivot.is_goal/pivot.total\n",
        "#     return pivot\n",
        "# pivot_feature('distance_of_shot')"
      ],
      "execution_count": 0,
      "outputs": []
    },
    {
      "cell_type": "code",
      "metadata": {
        "id": "8BtudcVZthRB",
        "colab_type": "code",
        "colab": {
          "base_uri": "https://localhost:8080/",
          "height": 316
        },
        "outputId": "22ba5d6f-4f59-4518-b28a-25997df6b922"
      },
      "source": [
        "features=['location_x','location_y','remaining_min','power_of_shot','remaining_sec','distance_of_shot','area_of_shot','shot_basics','range_of_shot','type_of_shot','type_of_combined_shot']\n",
        "dataset=df_new[features]\n",
        "dataset['location_x'].fillna(value=-245,inplace=True)\n",
        "dataset['location_y'].fillna(value=-39.0,inplace=True)\n",
        "dataset['power_of_shot'].fillna(value=7.0,inplace=True)\n",
        "dataset['remaining_sec'].fillna(value=11.0,inplace=True)\n",
        "dataset['remaining_min'].fillna(value=7.0,inplace=True)\n",
        "dataset['distance_of_shot'].fillna(value=28.0,inplace=True)\n",
        "dataset['area_of_shot'].fillna(value='Center(C)',inplace=True)\n",
        "dataset['shot_basics'].fillna(value='Goal Line',inplace=True)\n",
        "dataset['range_of_shot'].fillna(value='16-24 ft.',inplace=True)\n",
        "dataset['type_of_shot'].fillna(value='shot-1',inplace=True)\n",
        "dataset['type_of_combined_shot'].fillna(value='shot-2',inplace=True)\n",
        "dataset.isnull().sum()"
      ],
      "execution_count": 139,
      "outputs": [
        {
          "output_type": "stream",
          "text": [
            "/usr/local/lib/python3.6/dist-packages/pandas/core/generic.py:6130: SettingWithCopyWarning: \n",
            "A value is trying to be set on a copy of a slice from a DataFrame\n",
            "\n",
            "See the caveats in the documentation: http://pandas.pydata.org/pandas-docs/stable/indexing.html#indexing-view-versus-copy\n",
            "  self._update_inplace(new_data)\n"
          ],
          "name": "stderr"
        },
        {
          "output_type": "execute_result",
          "data": {
            "text/plain": [
              "location_x               0\n",
              "location_y               0\n",
              "remaining_min            0\n",
              "power_of_shot            0\n",
              "remaining_sec            0\n",
              "distance_of_shot         0\n",
              "area_of_shot             0\n",
              "shot_basics              0\n",
              "range_of_shot            0\n",
              "type_of_shot             0\n",
              "type_of_combined_shot    0\n",
              "dtype: int64"
            ]
          },
          "metadata": {
            "tags": []
          },
          "execution_count": 139
        }
      ]
    },
    {
      "cell_type": "code",
      "metadata": {
        "id": "qyHR06CBKxAA",
        "colab_type": "code",
        "colab": {
          "base_uri": "https://localhost:8080/",
          "height": 545
        },
        "outputId": "9005f798-5792-4ac5-a220-47b5f3f01727"
      },
      "source": [
        "from sklearn.preprocessing import LabelEncoder, OneHotEncoder\n",
        "labelencoder_X = LabelEncoder()\n",
        "dataset['area_of_shot'] = labelencoder_X.fit_transform(dataset['area_of_shot'])\n",
        "dataset['shot_basics'] = labelencoder_X.fit_transform(dataset['shot_basics'])\n",
        "dataset['type_of_shot'] = labelencoder_X.fit_transform(dataset['type_of_shot'])\n",
        "dataset['range_of_shot'] = labelencoder_X.fit_transform(dataset['range_of_shot'])\n",
        "dataset['type_of_combined_shot'] = labelencoder_X.fit_transform(dataset['type_of_combined_shot'])"
      ],
      "execution_count": 140,
      "outputs": [
        {
          "output_type": "stream",
          "text": [
            "/usr/local/lib/python3.6/dist-packages/ipykernel_launcher.py:3: SettingWithCopyWarning: \n",
            "A value is trying to be set on a copy of a slice from a DataFrame.\n",
            "Try using .loc[row_indexer,col_indexer] = value instead\n",
            "\n",
            "See the caveats in the documentation: http://pandas.pydata.org/pandas-docs/stable/indexing.html#indexing-view-versus-copy\n",
            "  This is separate from the ipykernel package so we can avoid doing imports until\n",
            "/usr/local/lib/python3.6/dist-packages/ipykernel_launcher.py:4: SettingWithCopyWarning: \n",
            "A value is trying to be set on a copy of a slice from a DataFrame.\n",
            "Try using .loc[row_indexer,col_indexer] = value instead\n",
            "\n",
            "See the caveats in the documentation: http://pandas.pydata.org/pandas-docs/stable/indexing.html#indexing-view-versus-copy\n",
            "  after removing the cwd from sys.path.\n",
            "/usr/local/lib/python3.6/dist-packages/ipykernel_launcher.py:5: SettingWithCopyWarning: \n",
            "A value is trying to be set on a copy of a slice from a DataFrame.\n",
            "Try using .loc[row_indexer,col_indexer] = value instead\n",
            "\n",
            "See the caveats in the documentation: http://pandas.pydata.org/pandas-docs/stable/indexing.html#indexing-view-versus-copy\n",
            "  \"\"\"\n",
            "/usr/local/lib/python3.6/dist-packages/ipykernel_launcher.py:6: SettingWithCopyWarning: \n",
            "A value is trying to be set on a copy of a slice from a DataFrame.\n",
            "Try using .loc[row_indexer,col_indexer] = value instead\n",
            "\n",
            "See the caveats in the documentation: http://pandas.pydata.org/pandas-docs/stable/indexing.html#indexing-view-versus-copy\n",
            "  \n",
            "/usr/local/lib/python3.6/dist-packages/ipykernel_launcher.py:7: SettingWithCopyWarning: \n",
            "A value is trying to be set on a copy of a slice from a DataFrame.\n",
            "Try using .loc[row_indexer,col_indexer] = value instead\n",
            "\n",
            "See the caveats in the documentation: http://pandas.pydata.org/pandas-docs/stable/indexing.html#indexing-view-versus-copy\n",
            "  import sys\n"
          ],
          "name": "stderr"
        }
      ]
    },
    {
      "cell_type": "code",
      "metadata": {
        "id": "xX0XHv2nLoev",
        "colab_type": "code",
        "colab": {
          "base_uri": "https://localhost:8080/",
          "height": 363
        },
        "outputId": "edb1a60d-1428-4cd0-e38a-8d8f109425ea"
      },
      "source": [
        "dataset.head(10)"
      ],
      "execution_count": 141,
      "outputs": [
        {
          "output_type": "execute_result",
          "data": {
            "text/html": [
              "<div>\n",
              "<style scoped>\n",
              "    .dataframe tbody tr th:only-of-type {\n",
              "        vertical-align: middle;\n",
              "    }\n",
              "\n",
              "    .dataframe tbody tr th {\n",
              "        vertical-align: top;\n",
              "    }\n",
              "\n",
              "    .dataframe thead th {\n",
              "        text-align: right;\n",
              "    }\n",
              "</style>\n",
              "<table border=\"1\" class=\"dataframe\">\n",
              "  <thead>\n",
              "    <tr style=\"text-align: right;\">\n",
              "      <th></th>\n",
              "      <th>location_x</th>\n",
              "      <th>location_y</th>\n",
              "      <th>remaining_min</th>\n",
              "      <th>power_of_shot</th>\n",
              "      <th>remaining_sec</th>\n",
              "      <th>distance_of_shot</th>\n",
              "      <th>area_of_shot</th>\n",
              "      <th>shot_basics</th>\n",
              "      <th>range_of_shot</th>\n",
              "      <th>type_of_shot</th>\n",
              "      <th>type_of_combined_shot</th>\n",
              "    </tr>\n",
              "  </thead>\n",
              "  <tbody>\n",
              "    <tr>\n",
              "      <th>1</th>\n",
              "      <td>-157.0</td>\n",
              "      <td>0.0</td>\n",
              "      <td>10.0</td>\n",
              "      <td>1.0</td>\n",
              "      <td>22.0</td>\n",
              "      <td>35.0</td>\n",
              "      <td>2</td>\n",
              "      <td>4</td>\n",
              "      <td>2</td>\n",
              "      <td>40</td>\n",
              "      <td>6</td>\n",
              "    </tr>\n",
              "    <tr>\n",
              "      <th>2</th>\n",
              "      <td>-101.0</td>\n",
              "      <td>135.0</td>\n",
              "      <td>7.0</td>\n",
              "      <td>1.0</td>\n",
              "      <td>45.0</td>\n",
              "      <td>36.0</td>\n",
              "      <td>1</td>\n",
              "      <td>4</td>\n",
              "      <td>0</td>\n",
              "      <td>18</td>\n",
              "      <td>6</td>\n",
              "    </tr>\n",
              "    <tr>\n",
              "      <th>3</th>\n",
              "      <td>138.0</td>\n",
              "      <td>175.0</td>\n",
              "      <td>6.0</td>\n",
              "      <td>1.0</td>\n",
              "      <td>52.0</td>\n",
              "      <td>42.0</td>\n",
              "      <td>4</td>\n",
              "      <td>4</td>\n",
              "      <td>0</td>\n",
              "      <td>57</td>\n",
              "      <td>3</td>\n",
              "    </tr>\n",
              "    <tr>\n",
              "      <th>4</th>\n",
              "      <td>0.0</td>\n",
              "      <td>0.0</td>\n",
              "      <td>7.0</td>\n",
              "      <td>2.0</td>\n",
              "      <td>19.0</td>\n",
              "      <td>20.0</td>\n",
              "      <td>0</td>\n",
              "      <td>0</td>\n",
              "      <td>4</td>\n",
              "      <td>57</td>\n",
              "      <td>1</td>\n",
              "    </tr>\n",
              "    <tr>\n",
              "      <th>5</th>\n",
              "      <td>-145.0</td>\n",
              "      <td>-11.0</td>\n",
              "      <td>9.0</td>\n",
              "      <td>3.0</td>\n",
              "      <td>32.0</td>\n",
              "      <td>34.0</td>\n",
              "      <td>2</td>\n",
              "      <td>4</td>\n",
              "      <td>2</td>\n",
              "      <td>9</td>\n",
              "      <td>6</td>\n",
              "    </tr>\n",
              "    <tr>\n",
              "      <th>6</th>\n",
              "      <td>0.0</td>\n",
              "      <td>0.0</td>\n",
              "      <td>8.0</td>\n",
              "      <td>7.0</td>\n",
              "      <td>52.0</td>\n",
              "      <td>20.0</td>\n",
              "      <td>0</td>\n",
              "      <td>0</td>\n",
              "      <td>4</td>\n",
              "      <td>57</td>\n",
              "      <td>4</td>\n",
              "    </tr>\n",
              "    <tr>\n",
              "      <th>8</th>\n",
              "      <td>-65.0</td>\n",
              "      <td>-39.0</td>\n",
              "      <td>6.0</td>\n",
              "      <td>3.0</td>\n",
              "      <td>12.0</td>\n",
              "      <td>32.0</td>\n",
              "      <td>2</td>\n",
              "      <td>1</td>\n",
              "      <td>2</td>\n",
              "      <td>30</td>\n",
              "      <td>6</td>\n",
              "    </tr>\n",
              "    <tr>\n",
              "      <th>9</th>\n",
              "      <td>-33.0</td>\n",
              "      <td>-39.0</td>\n",
              "      <td>3.0</td>\n",
              "      <td>3.0</td>\n",
              "      <td>36.0</td>\n",
              "      <td>32.0</td>\n",
              "      <td>0</td>\n",
              "      <td>1</td>\n",
              "      <td>2</td>\n",
              "      <td>39</td>\n",
              "      <td>6</td>\n",
              "    </tr>\n",
              "    <tr>\n",
              "      <th>10</th>\n",
              "      <td>-94.0</td>\n",
              "      <td>238.0</td>\n",
              "      <td>1.0</td>\n",
              "      <td>3.0</td>\n",
              "      <td>56.0</td>\n",
              "      <td>45.0</td>\n",
              "      <td>1</td>\n",
              "      <td>5</td>\n",
              "      <td>1</td>\n",
              "      <td>54</td>\n",
              "      <td>6</td>\n",
              "    </tr>\n",
              "    <tr>\n",
              "      <th>11</th>\n",
              "      <td>121.0</td>\n",
              "      <td>127.0</td>\n",
              "      <td>11.0</td>\n",
              "      <td>1.0</td>\n",
              "      <td>0.0</td>\n",
              "      <td>37.0</td>\n",
              "      <td>4</td>\n",
              "      <td>4</td>\n",
              "      <td>0</td>\n",
              "      <td>57</td>\n",
              "      <td>3</td>\n",
              "    </tr>\n",
              "  </tbody>\n",
              "</table>\n",
              "</div>"
            ],
            "text/plain": [
              "    location_x  location_y  ...  type_of_shot  type_of_combined_shot\n",
              "1       -157.0         0.0  ...            40                      6\n",
              "2       -101.0       135.0  ...            18                      6\n",
              "3        138.0       175.0  ...            57                      3\n",
              "4          0.0         0.0  ...            57                      1\n",
              "5       -145.0       -11.0  ...             9                      6\n",
              "6          0.0         0.0  ...            57                      4\n",
              "8        -65.0       -39.0  ...            30                      6\n",
              "9        -33.0       -39.0  ...            39                      6\n",
              "10       -94.0       238.0  ...            54                      6\n",
              "11       121.0       127.0  ...            57                      3\n",
              "\n",
              "[10 rows x 11 columns]"
            ]
          },
          "metadata": {
            "tags": []
          },
          "execution_count": 141
        }
      ]
    },
    {
      "cell_type": "code",
      "metadata": {
        "id": "hNTVYE3uMwn5",
        "colab_type": "code",
        "colab": {
          "base_uri": "https://localhost:8080/",
          "height": 34
        },
        "outputId": "a65435a1-8782-495e-d3c1-5cccb500106f"
      },
      "source": [
        "from sklearn.model_selection import train_test_split\n",
        "X=dataset\n",
        "Y=df_new.is_goal\n",
        "print(Y.isnull().sum())\n",
        "X_train, X_test, y_train, y_test = train_test_split(X, Y, test_size = 0.25, random_state = 100)"
      ],
      "execution_count": 142,
      "outputs": [
        {
          "output_type": "stream",
          "text": [
            "0\n"
          ],
          "name": "stdout"
        }
      ]
    },
    {
      "cell_type": "code",
      "metadata": {
        "id": "wZZo4xOeNKFN",
        "colab_type": "code",
        "colab": {
          "base_uri": "https://localhost:8080/",
          "height": 140
        },
        "outputId": "16b46c56-96f5-4ba5-dc9d-d73067e0bc99"
      },
      "source": [
        "from sklearn.ensemble import RandomForestClassifier\n",
        "model = RandomForestClassifier(n_estimators = 12, criterion = 'entropy', random_state = 1337)\n",
        "model.fit(X_train, y_train)"
      ],
      "execution_count": 143,
      "outputs": [
        {
          "output_type": "execute_result",
          "data": {
            "text/plain": [
              "RandomForestClassifier(bootstrap=True, class_weight=None, criterion='entropy',\n",
              "                       max_depth=None, max_features='auto', max_leaf_nodes=None,\n",
              "                       min_impurity_decrease=0.0, min_impurity_split=None,\n",
              "                       min_samples_leaf=1, min_samples_split=2,\n",
              "                       min_weight_fraction_leaf=0.0, n_estimators=12,\n",
              "                       n_jobs=None, oob_score=False, random_state=1337,\n",
              "                       verbose=0, warm_start=False)"
            ]
          },
          "metadata": {
            "tags": []
          },
          "execution_count": 143
        }
      ]
    },
    {
      "cell_type": "code",
      "metadata": {
        "id": "oQF5BaCaNTDj",
        "colab_type": "code",
        "colab": {
          "base_uri": "https://localhost:8080/",
          "height": 34
        },
        "outputId": "cf3267bd-7584-4316-d55d-43fe165a0d01"
      },
      "source": [
        "y_pred = model.predict(X_test)\n",
        "from sklearn.metrics import confusion_matrix,accuracy_score\n",
        "accuracy_score(y_test,y_pred)"
      ],
      "execution_count": 100,
      "outputs": [
        {
          "output_type": "execute_result",
          "data": {
            "text/plain": [
              "0.5934839554682384"
            ]
          },
          "metadata": {
            "tags": []
          },
          "execution_count": 100
        }
      ]
    },
    {
      "cell_type": "code",
      "metadata": {
        "id": "NwlK5_eFPBp7",
        "colab_type": "code",
        "colab": {
          "base_uri": "https://localhost:8080/",
          "height": 738
        },
        "outputId": "07bd8abc-832a-45d6-b2ed-eb446db06c4e"
      },
      "source": [
        "df_testor=df[df.is_goal.isnull()]\n",
        "dataset=df_testor[features]\n",
        "dataset['shot_id_number']=df_testor['shot_id_number']\n",
        "dataset['location_x'].fillna(value=-245,inplace=True)\n",
        "dataset['location_y'].fillna(value=-39.0,inplace=True)\n",
        "dataset['power_of_shot'].fillna(value=7.0,inplace=True)\n",
        "dataset['remaining_sec'].fillna(value=11.0,inplace=True)\n",
        "dataset['remaining_min'].fillna(value=7.0,inplace=True)\n",
        "dataset['distance_of_shot'].fillna(value=28.0,inplace=True)\n",
        "dataset['area_of_shot'].fillna(value='Center(C)',inplace=True)\n",
        "dataset['shot_basics'].fillna(value='Goal Line',inplace=True)\n",
        "dataset['range_of_shot'].fillna(value='16-24 ft.',inplace=True)\n",
        "dataset['type_of_shot'].fillna(value='shot-1',inplace=True)\n",
        "dataset['type_of_combined_shot'].fillna(value='shot-2',inplace=True)\n",
        "from sklearn.preprocessing import LabelEncoder, OneHotEncoder\n",
        "labelencoder_X = LabelEncoder()\n",
        "dataset['area_of_shot'] = labelencoder_X.fit_transform(dataset['area_of_shot'])\n",
        "dataset['shot_basics'] = labelencoder_X.fit_transform(dataset['shot_basics'])\n",
        "dataset['type_of_shot'] = labelencoder_X.fit_transform(dataset['type_of_shot'])\n",
        "dataset['range_of_shot'] = labelencoder_X.fit_transform(dataset['range_of_shot'])\n",
        "dataset['type_of_combined_shot'] = labelencoder_X.fit_transform(dataset['type_of_combined_shot'])\n",
        "dataset.shape\n",
        "dataset['is_goal']=model.predict(dataset[features])\n",
        "dataset=dataset.dropna(how='any')\n",
        "dataset.isnull().sum()\n",
        "dataset[['shot_id_number','is_goal']].to_csv('/content/drive/My Drive/zschallenge/submission2.csv',index=False)\n"
      ],
      "execution_count": 152,
      "outputs": [
        {
          "output_type": "stream",
          "text": [
            "/usr/local/lib/python3.6/dist-packages/ipykernel_launcher.py:3: SettingWithCopyWarning: \n",
            "A value is trying to be set on a copy of a slice from a DataFrame.\n",
            "Try using .loc[row_indexer,col_indexer] = value instead\n",
            "\n",
            "See the caveats in the documentation: http://pandas.pydata.org/pandas-docs/stable/indexing.html#indexing-view-versus-copy\n",
            "  This is separate from the ipykernel package so we can avoid doing imports until\n",
            "/usr/local/lib/python3.6/dist-packages/pandas/core/generic.py:6130: SettingWithCopyWarning: \n",
            "A value is trying to be set on a copy of a slice from a DataFrame\n",
            "\n",
            "See the caveats in the documentation: http://pandas.pydata.org/pandas-docs/stable/indexing.html#indexing-view-versus-copy\n",
            "  self._update_inplace(new_data)\n",
            "/usr/local/lib/python3.6/dist-packages/ipykernel_launcher.py:17: SettingWithCopyWarning: \n",
            "A value is trying to be set on a copy of a slice from a DataFrame.\n",
            "Try using .loc[row_indexer,col_indexer] = value instead\n",
            "\n",
            "See the caveats in the documentation: http://pandas.pydata.org/pandas-docs/stable/indexing.html#indexing-view-versus-copy\n",
            "/usr/local/lib/python3.6/dist-packages/ipykernel_launcher.py:18: SettingWithCopyWarning: \n",
            "A value is trying to be set on a copy of a slice from a DataFrame.\n",
            "Try using .loc[row_indexer,col_indexer] = value instead\n",
            "\n",
            "See the caveats in the documentation: http://pandas.pydata.org/pandas-docs/stable/indexing.html#indexing-view-versus-copy\n",
            "/usr/local/lib/python3.6/dist-packages/ipykernel_launcher.py:19: SettingWithCopyWarning: \n",
            "A value is trying to be set on a copy of a slice from a DataFrame.\n",
            "Try using .loc[row_indexer,col_indexer] = value instead\n",
            "\n",
            "See the caveats in the documentation: http://pandas.pydata.org/pandas-docs/stable/indexing.html#indexing-view-versus-copy\n",
            "/usr/local/lib/python3.6/dist-packages/ipykernel_launcher.py:20: SettingWithCopyWarning: \n",
            "A value is trying to be set on a copy of a slice from a DataFrame.\n",
            "Try using .loc[row_indexer,col_indexer] = value instead\n",
            "\n",
            "See the caveats in the documentation: http://pandas.pydata.org/pandas-docs/stable/indexing.html#indexing-view-versus-copy\n",
            "/usr/local/lib/python3.6/dist-packages/ipykernel_launcher.py:21: SettingWithCopyWarning: \n",
            "A value is trying to be set on a copy of a slice from a DataFrame.\n",
            "Try using .loc[row_indexer,col_indexer] = value instead\n",
            "\n",
            "See the caveats in the documentation: http://pandas.pydata.org/pandas-docs/stable/indexing.html#indexing-view-versus-copy\n",
            "/usr/local/lib/python3.6/dist-packages/ipykernel_launcher.py:23: SettingWithCopyWarning: \n",
            "A value is trying to be set on a copy of a slice from a DataFrame.\n",
            "Try using .loc[row_indexer,col_indexer] = value instead\n",
            "\n",
            "See the caveats in the documentation: http://pandas.pydata.org/pandas-docs/stable/indexing.html#indexing-view-versus-copy\n"
          ],
          "name": "stderr"
        }
      ]
    }
  ]
}