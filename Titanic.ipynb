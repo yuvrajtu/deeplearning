{
  "nbformat": 4,
  "nbformat_minor": 0,
  "metadata": {
    "colab": {
      "name": "Titanic.ipynb",
      "version": "0.3.2",
      "provenance": [],
      "collapsed_sections": [],
      "include_colab_link": true
    },
    "kernelspec": {
      "name": "python3",
      "display_name": "Python 3"
    }
  },
  "cells": [
    {
      "cell_type": "markdown",
      "metadata": {
        "id": "view-in-github",
        "colab_type": "text"
      },
      "source": [
        "<a href=\"https://colab.research.google.com/github/yuvrajtu/deeplearning/blob/master/Titanic.ipynb\" target=\"_parent\"><img src=\"https://colab.research.google.com/assets/colab-badge.svg\" alt=\"Open In Colab\"/></a>"
      ]
    },
    {
      "cell_type": "code",
      "metadata": {
        "id": "prWPBRBZaLlX",
        "colab_type": "code",
        "outputId": "823b11b9-c372-4e79-b80d-71549f68f4a3",
        "colab": {
          "base_uri": "https://localhost:8080/",
          "height": 343
        }
      },
      "source": [
        "import pandas as pd\n",
        "df=pd.read_csv(\"train.csv\")\n",
        "df.head(10)"
      ],
      "execution_count": 0,
      "outputs": [
        {
          "output_type": "execute_result",
          "data": {
            "text/html": [
              "<div>\n",
              "<style scoped>\n",
              "    .dataframe tbody tr th:only-of-type {\n",
              "        vertical-align: middle;\n",
              "    }\n",
              "\n",
              "    .dataframe tbody tr th {\n",
              "        vertical-align: top;\n",
              "    }\n",
              "\n",
              "    .dataframe thead th {\n",
              "        text-align: right;\n",
              "    }\n",
              "</style>\n",
              "<table border=\"1\" class=\"dataframe\">\n",
              "  <thead>\n",
              "    <tr style=\"text-align: right;\">\n",
              "      <th></th>\n",
              "      <th>PassengerId</th>\n",
              "      <th>Survived</th>\n",
              "      <th>Pclass</th>\n",
              "      <th>Name</th>\n",
              "      <th>Sex</th>\n",
              "      <th>Age</th>\n",
              "      <th>SibSp</th>\n",
              "      <th>Parch</th>\n",
              "      <th>Ticket</th>\n",
              "      <th>Fare</th>\n",
              "      <th>Cabin</th>\n",
              "      <th>Embarked</th>\n",
              "    </tr>\n",
              "  </thead>\n",
              "  <tbody>\n",
              "    <tr>\n",
              "      <th>0</th>\n",
              "      <td>1</td>\n",
              "      <td>0</td>\n",
              "      <td>3</td>\n",
              "      <td>Braund, Mr. Owen Harris</td>\n",
              "      <td>male</td>\n",
              "      <td>22.0</td>\n",
              "      <td>1</td>\n",
              "      <td>0</td>\n",
              "      <td>A/5 21171</td>\n",
              "      <td>7.2500</td>\n",
              "      <td>NaN</td>\n",
              "      <td>S</td>\n",
              "    </tr>\n",
              "    <tr>\n",
              "      <th>1</th>\n",
              "      <td>2</td>\n",
              "      <td>1</td>\n",
              "      <td>1</td>\n",
              "      <td>Cumings, Mrs. John Bradley (Florence Briggs Th...</td>\n",
              "      <td>female</td>\n",
              "      <td>38.0</td>\n",
              "      <td>1</td>\n",
              "      <td>0</td>\n",
              "      <td>PC 17599</td>\n",
              "      <td>71.2833</td>\n",
              "      <td>C85</td>\n",
              "      <td>C</td>\n",
              "    </tr>\n",
              "    <tr>\n",
              "      <th>2</th>\n",
              "      <td>3</td>\n",
              "      <td>1</td>\n",
              "      <td>3</td>\n",
              "      <td>Heikkinen, Miss. Laina</td>\n",
              "      <td>female</td>\n",
              "      <td>26.0</td>\n",
              "      <td>0</td>\n",
              "      <td>0</td>\n",
              "      <td>STON/O2. 3101282</td>\n",
              "      <td>7.9250</td>\n",
              "      <td>NaN</td>\n",
              "      <td>S</td>\n",
              "    </tr>\n",
              "    <tr>\n",
              "      <th>3</th>\n",
              "      <td>4</td>\n",
              "      <td>1</td>\n",
              "      <td>1</td>\n",
              "      <td>Futrelle, Mrs. Jacques Heath (Lily May Peel)</td>\n",
              "      <td>female</td>\n",
              "      <td>35.0</td>\n",
              "      <td>1</td>\n",
              "      <td>0</td>\n",
              "      <td>113803</td>\n",
              "      <td>53.1000</td>\n",
              "      <td>C123</td>\n",
              "      <td>S</td>\n",
              "    </tr>\n",
              "    <tr>\n",
              "      <th>4</th>\n",
              "      <td>5</td>\n",
              "      <td>0</td>\n",
              "      <td>3</td>\n",
              "      <td>Allen, Mr. William Henry</td>\n",
              "      <td>male</td>\n",
              "      <td>35.0</td>\n",
              "      <td>0</td>\n",
              "      <td>0</td>\n",
              "      <td>373450</td>\n",
              "      <td>8.0500</td>\n",
              "      <td>NaN</td>\n",
              "      <td>S</td>\n",
              "    </tr>\n",
              "    <tr>\n",
              "      <th>5</th>\n",
              "      <td>6</td>\n",
              "      <td>0</td>\n",
              "      <td>3</td>\n",
              "      <td>Moran, Mr. James</td>\n",
              "      <td>male</td>\n",
              "      <td>NaN</td>\n",
              "      <td>0</td>\n",
              "      <td>0</td>\n",
              "      <td>330877</td>\n",
              "      <td>8.4583</td>\n",
              "      <td>NaN</td>\n",
              "      <td>Q</td>\n",
              "    </tr>\n",
              "    <tr>\n",
              "      <th>6</th>\n",
              "      <td>7</td>\n",
              "      <td>0</td>\n",
              "      <td>1</td>\n",
              "      <td>McCarthy, Mr. Timothy J</td>\n",
              "      <td>male</td>\n",
              "      <td>54.0</td>\n",
              "      <td>0</td>\n",
              "      <td>0</td>\n",
              "      <td>17463</td>\n",
              "      <td>51.8625</td>\n",
              "      <td>E46</td>\n",
              "      <td>S</td>\n",
              "    </tr>\n",
              "    <tr>\n",
              "      <th>7</th>\n",
              "      <td>8</td>\n",
              "      <td>0</td>\n",
              "      <td>3</td>\n",
              "      <td>Palsson, Master. Gosta Leonard</td>\n",
              "      <td>male</td>\n",
              "      <td>2.0</td>\n",
              "      <td>3</td>\n",
              "      <td>1</td>\n",
              "      <td>349909</td>\n",
              "      <td>21.0750</td>\n",
              "      <td>NaN</td>\n",
              "      <td>S</td>\n",
              "    </tr>\n",
              "    <tr>\n",
              "      <th>8</th>\n",
              "      <td>9</td>\n",
              "      <td>1</td>\n",
              "      <td>3</td>\n",
              "      <td>Johnson, Mrs. Oscar W (Elisabeth Vilhelmina Berg)</td>\n",
              "      <td>female</td>\n",
              "      <td>27.0</td>\n",
              "      <td>0</td>\n",
              "      <td>2</td>\n",
              "      <td>347742</td>\n",
              "      <td>11.1333</td>\n",
              "      <td>NaN</td>\n",
              "      <td>S</td>\n",
              "    </tr>\n",
              "    <tr>\n",
              "      <th>9</th>\n",
              "      <td>10</td>\n",
              "      <td>1</td>\n",
              "      <td>2</td>\n",
              "      <td>Nasser, Mrs. Nicholas (Adele Achem)</td>\n",
              "      <td>female</td>\n",
              "      <td>14.0</td>\n",
              "      <td>1</td>\n",
              "      <td>0</td>\n",
              "      <td>237736</td>\n",
              "      <td>30.0708</td>\n",
              "      <td>NaN</td>\n",
              "      <td>C</td>\n",
              "    </tr>\n",
              "  </tbody>\n",
              "</table>\n",
              "</div>"
            ],
            "text/plain": [
              "   PassengerId  Survived  Pclass  \\\n",
              "0            1         0       3   \n",
              "1            2         1       1   \n",
              "2            3         1       3   \n",
              "3            4         1       1   \n",
              "4            5         0       3   \n",
              "5            6         0       3   \n",
              "6            7         0       1   \n",
              "7            8         0       3   \n",
              "8            9         1       3   \n",
              "9           10         1       2   \n",
              "\n",
              "                                                Name     Sex   Age  SibSp  \\\n",
              "0                            Braund, Mr. Owen Harris    male  22.0      1   \n",
              "1  Cumings, Mrs. John Bradley (Florence Briggs Th...  female  38.0      1   \n",
              "2                             Heikkinen, Miss. Laina  female  26.0      0   \n",
              "3       Futrelle, Mrs. Jacques Heath (Lily May Peel)  female  35.0      1   \n",
              "4                           Allen, Mr. William Henry    male  35.0      0   \n",
              "5                                   Moran, Mr. James    male   NaN      0   \n",
              "6                            McCarthy, Mr. Timothy J    male  54.0      0   \n",
              "7                     Palsson, Master. Gosta Leonard    male   2.0      3   \n",
              "8  Johnson, Mrs. Oscar W (Elisabeth Vilhelmina Berg)  female  27.0      0   \n",
              "9                Nasser, Mrs. Nicholas (Adele Achem)  female  14.0      1   \n",
              "\n",
              "   Parch            Ticket     Fare Cabin Embarked  \n",
              "0      0         A/5 21171   7.2500   NaN        S  \n",
              "1      0          PC 17599  71.2833   C85        C  \n",
              "2      0  STON/O2. 3101282   7.9250   NaN        S  \n",
              "3      0            113803  53.1000  C123        S  \n",
              "4      0            373450   8.0500   NaN        S  \n",
              "5      0            330877   8.4583   NaN        Q  \n",
              "6      0             17463  51.8625   E46        S  \n",
              "7      1            349909  21.0750   NaN        S  \n",
              "8      2            347742  11.1333   NaN        S  \n",
              "9      0            237736  30.0708   NaN        C  "
            ]
          },
          "metadata": {
            "tags": []
          },
          "execution_count": 1
        }
      ]
    },
    {
      "cell_type": "code",
      "metadata": {
        "id": "SHiYcAoMb328",
        "colab_type": "code",
        "outputId": "76746340-80a4-4a8b-f6b7-be118ba46165",
        "colab": {
          "base_uri": "https://localhost:8080/",
          "height": 105
        }
      },
      "source": [
        "df.groupby(['Embarked']).PassengerId.count()"
      ],
      "execution_count": 0,
      "outputs": [
        {
          "output_type": "execute_result",
          "data": {
            "text/plain": [
              "Embarked\n",
              "C    168\n",
              "Q     77\n",
              "S    644\n",
              "Name: PassengerId, dtype: int64"
            ]
          },
          "metadata": {
            "tags": []
          },
          "execution_count": 11
        }
      ]
    },
    {
      "cell_type": "code",
      "metadata": {
        "id": "s3m0dxICc3xw",
        "colab_type": "code",
        "outputId": "1be5db27-3ae8-48c7-b486-149da2ab3b9c",
        "colab": {
          "base_uri": "https://localhost:8080/",
          "height": 195
        }
      },
      "source": [
        "def pivot_feature(feature):\n",
        "    pivot = df.pivot_table(index=feature,columns='Survived',values='PassengerId',aggfunc='count',margins=True)\n",
        "    pivot.columns=[\"dead\",\"survived\",\"total\"]\n",
        "    pivot['SR']=pivot.survived/pivot.total\n",
        "    return pivot\n",
        "pivot_feature('Embarked')"
      ],
      "execution_count": 0,
      "outputs": [
        {
          "output_type": "execute_result",
          "data": {
            "text/html": [
              "<div>\n",
              "<style scoped>\n",
              "    .dataframe tbody tr th:only-of-type {\n",
              "        vertical-align: middle;\n",
              "    }\n",
              "\n",
              "    .dataframe tbody tr th {\n",
              "        vertical-align: top;\n",
              "    }\n",
              "\n",
              "    .dataframe thead th {\n",
              "        text-align: right;\n",
              "    }\n",
              "</style>\n",
              "<table border=\"1\" class=\"dataframe\">\n",
              "  <thead>\n",
              "    <tr style=\"text-align: right;\">\n",
              "      <th></th>\n",
              "      <th>dead</th>\n",
              "      <th>survived</th>\n",
              "      <th>total</th>\n",
              "      <th>SR</th>\n",
              "    </tr>\n",
              "    <tr>\n",
              "      <th>Embarked</th>\n",
              "      <th></th>\n",
              "      <th></th>\n",
              "      <th></th>\n",
              "      <th></th>\n",
              "    </tr>\n",
              "  </thead>\n",
              "  <tbody>\n",
              "    <tr>\n",
              "      <th>C</th>\n",
              "      <td>75</td>\n",
              "      <td>93</td>\n",
              "      <td>168</td>\n",
              "      <td>0.553571</td>\n",
              "    </tr>\n",
              "    <tr>\n",
              "      <th>Q</th>\n",
              "      <td>47</td>\n",
              "      <td>30</td>\n",
              "      <td>77</td>\n",
              "      <td>0.389610</td>\n",
              "    </tr>\n",
              "    <tr>\n",
              "      <th>S</th>\n",
              "      <td>427</td>\n",
              "      <td>217</td>\n",
              "      <td>644</td>\n",
              "      <td>0.336957</td>\n",
              "    </tr>\n",
              "    <tr>\n",
              "      <th>All</th>\n",
              "      <td>549</td>\n",
              "      <td>340</td>\n",
              "      <td>889</td>\n",
              "      <td>0.382452</td>\n",
              "    </tr>\n",
              "  </tbody>\n",
              "</table>\n",
              "</div>"
            ],
            "text/plain": [
              "          dead  survived  total        SR\n",
              "Embarked                                 \n",
              "C           75        93    168  0.553571\n",
              "Q           47        30     77  0.389610\n",
              "S          427       217    644  0.336957\n",
              "All        549       340    889  0.382452"
            ]
          },
          "metadata": {
            "tags": []
          },
          "execution_count": 22
        }
      ]
    },
    {
      "cell_type": "code",
      "metadata": {
        "id": "ZO56ojlkBReD",
        "colab_type": "code",
        "colab": {}
      },
      "source": [
        ""
      ],
      "execution_count": 0,
      "outputs": []
    },
    {
      "cell_type": "code",
      "metadata": {
        "id": "0DctmJreGTlf",
        "colab_type": "code",
        "colab": {}
      },
      "source": [
        "\n"
      ],
      "execution_count": 0,
      "outputs": []
    },
    {
      "cell_type": "code",
      "metadata": {
        "id": "rMchtqg2hmlg",
        "colab_type": "code",
        "outputId": "a66c217d-c52c-4c1b-c1dd-3c72a57e56a3",
        "colab": {
          "base_uri": "https://localhost:8080/",
          "height": 1354
        }
      },
      "source": [
        "\n",
        "# from sklearn.model_selection import StratifiedShuffleSplit\n",
        "# splitter = StratifiedShuffleSplit(df.Survived,random_state=1337)\n",
        "feature=[ 'PassengerId','Pclass', 'Age', 'Fare','Parch','Sex','Embarked']\n",
        "X=df[feature]\n",
        "from sklearn.preprocessing import LabelEncoder, OneHotEncoder\n",
        "labelencoder_X = LabelEncoder()\n",
        "X['Sex'] = labelencoder_X.fit_transform(X['Sex'])\n",
        "X['Embarked'] = labelencoder_X.fit_transform(X['Embarked'].astype(str))\n",
        "# onehotencoder = OneHotEncoder(categorical_features = [0])\n",
        "# X['Embarked'] = onehotencoder.fit(X['Embarked'].astype(str)).toarray()\n",
        "df.head(10)\n",
        "\n",
        "\n",
        "y=df.Survived\n",
        "from sklearn.model_selection import train_test_split\n",
        "X_train, X_test, y_train, y_test = train_test_split(X, y, test_size = 0.1, random_state = 100)\n",
        "# from sklearn.preprocessing import Imputer\n",
        "# imputer = Imputer(missing_values = 'NaN', strategy = 'mean', axis = 0)\n",
        "# imputer = imputer.fit(X_train)\n",
        "# X_train = imputer.fit_transform(X_train).ravel()\n",
        "\n",
        "print(X_train)\n"
      ],
      "execution_count": 0,
      "outputs": [
        {
          "output_type": "stream",
          "text": [
            "     PassengerId  Pclass   Age      Fare  Parch  Sex  Embarked\n",
            "692          693       3   NaN   56.4958      0    1         2\n",
            "279          280       3  35.0   20.2500      1    0         2\n",
            "101          102       3   NaN    7.8958      0    1         2\n",
            "287          288       3  22.0    7.8958      0    1         2\n",
            "710          711       1  24.0   49.5042      0    0         0\n",
            "255          256       3  29.0   15.2458      2    0         0\n",
            "22            23       3  15.0    8.0292      0    0         1\n",
            "581          582       1  39.0  110.8833      1    0         0\n",
            "563          564       3   NaN    8.0500      0    1         2\n",
            "404          405       3  20.0    8.6625      0    0         2\n",
            "428          429       3   NaN    7.7500      0    1         1\n",
            "847          848       3  35.0    7.8958      0    1         0\n",
            "725          726       3  20.0    8.6625      0    1         2\n",
            "720          721       2   6.0   33.0000      1    0         2\n",
            "636          637       3  32.0    7.9250      0    1         2\n",
            "862          863       1  48.0   25.9292      0    0         2\n",
            "614          615       3  35.0    8.0500      0    1         2\n",
            "198          199       3   NaN    7.7500      0    0         1\n",
            "786          787       3  18.0    7.4958      0    0         2\n",
            "155          156       1  51.0   61.3792      1    1         0\n",
            "189          190       3  36.0    7.8958      0    1         2\n",
            "555          556       1  62.0   26.5500      0    1         2\n",
            "889          890       1  26.0   30.0000      0    1         0\n",
            "826          827       3   NaN   56.4958      0    1         2\n",
            "533          534       3   NaN   22.3583      2    0         0\n",
            "833          834       3  23.0    7.8542      0    1         2\n",
            "278          279       3   7.0   29.1250      1    1         1\n",
            "188          189       3  40.0   15.5000      1    1         1\n",
            "560          561       3   NaN    7.7500      0    1         1\n",
            "374          375       3   3.0   21.0750      1    0         2\n",
            "..           ...     ...   ...       ...    ...  ...       ...\n",
            "612          613       3   NaN   15.5000      0    0         1\n",
            "723          724       2  50.0   13.0000      0    1         2\n",
            "757          758       2  18.0   11.5000      0    1         2\n",
            "141          142       3  22.0    7.7500      0    0         2\n",
            "415          416       3   NaN    8.0500      0    0         2\n",
            "667          668       3   NaN    7.7750      0    1         2\n",
            "386          387       3   1.0   46.9000      2    1         2\n",
            "86            87       3  16.0   34.3750      3    1         2\n",
            "93            94       3  26.0   20.5750      2    1         2\n",
            "649          650       3  23.0    7.5500      0    0         2\n",
            "507          508       1   NaN   26.5500      0    1         2\n",
            "570          571       2  62.0   10.5000      0    1         2\n",
            "316          317       2  24.0   26.0000      0    0         2\n",
            "228          229       2  18.0   13.0000      0    1         2\n",
            "655          656       2  24.0   73.5000      0    1         2\n",
            "280          281       3  65.0    7.7500      0    1         1\n",
            "752          753       3  33.0    9.5000      0    1         2\n",
            "802          803       1  11.0  120.0000      2    1         2\n",
            "526          527       2  50.0   10.5000      0    0         2\n",
            "738          739       3   NaN    7.8958      0    1         2\n",
            "578          579       3   NaN   14.4583      0    0         0\n",
            "53            54       2  29.0   26.0000      0    0         2\n",
            "866          867       2  27.0   13.8583      0    0         0\n",
            "350          351       3  23.0    9.2250      0    1         2\n",
            "79            80       3  30.0   12.4750      0    0         2\n",
            "855          856       3  18.0    9.3500      1    0         2\n",
            "871          872       1  47.0   52.5542      1    0         2\n",
            "835          836       1  39.0   83.1583      1    0         0\n",
            "792          793       3   NaN   69.5500      2    0         2\n",
            "520          521       1  30.0   93.5000      0    0         2\n",
            "\n",
            "[801 rows x 7 columns]\n"
          ],
          "name": "stdout"
        },
        {
          "output_type": "stream",
          "text": [
            "/usr/local/lib/python3.6/dist-packages/ipykernel_launcher.py:5: SettingWithCopyWarning: \n",
            "A value is trying to be set on a copy of a slice from a DataFrame.\n",
            "Try using .loc[row_indexer,col_indexer] = value instead\n",
            "\n",
            "See the caveats in the documentation: http://pandas.pydata.org/pandas-docs/stable/indexing.html#indexing-view-versus-copy\n",
            "  \"\"\"\n",
            "/usr/local/lib/python3.6/dist-packages/ipykernel_launcher.py:6: SettingWithCopyWarning: \n",
            "A value is trying to be set on a copy of a slice from a DataFrame.\n",
            "Try using .loc[row_indexer,col_indexer] = value instead\n",
            "\n",
            "See the caveats in the documentation: http://pandas.pydata.org/pandas-docs/stable/indexing.html#indexing-view-versus-copy\n",
            "  \n"
          ],
          "name": "stderr"
        }
      ]
    },
    {
      "cell_type": "code",
      "metadata": {
        "id": "844uW3BYBVPg",
        "colab_type": "code",
        "colab": {}
      },
      "source": [
        "# from sklearn.preprocessing import StandardScaler\n",
        "# sc = StandardScaler()\n",
        "# X_train = sc.fit_transform(X_train)\n",
        "# X_test = sc.fit_transform(X_test)\n",
        "# print(X_train)\n"
      ],
      "execution_count": 0,
      "outputs": []
    },
    {
      "cell_type": "code",
      "metadata": {
        "colab_type": "code",
        "outputId": "0c42edc7-7bda-4632-b81d-6719159eef23",
        "id": "ybcTmUFvBMq3",
        "colab": {
          "base_uri": "https://localhost:8080/",
          "height": 140
        }
      },
      "source": [
        "# from sklearn.linear_model import LogisticRegression\n",
        "# classifier = LogisticRegression(random_state = 0)\n",
        "# classifier.fit(X_train.fillna(0), y_train.fillna(0))\n",
        "\n",
        "# from sklearn.tree import DecisionTreeClassifier\n",
        "# model = DecisionTreeClassifier(random_state = 0)\n",
        "\n",
        "\n",
        "from sklearn.ensemble import RandomForestClassifier\n",
        "model = RandomForestClassifier(n_estimators = 12, criterion = 'entropy', random_state = 1337)\n",
        "model.fit(X_train.fillna(0), y_train.fillna(0))\n",
        "# import keras\n",
        "# from keras.models import Sequential\n",
        "# from keras.layers import Dense\n",
        "# classifier = Sequential()\n",
        "# classifier.add(Dense(output_dim = 1, init = 'uniform', activation = 'relu', input_dim = 6))\n",
        "# classifier.compile(optimizer = 'adam', loss = 'binary_crossentropy', metrics = ['accuracy'])\n",
        "# classifier.fit(X_train, y_train.fillna(0), batch_size = 10, nb_epoch = 100)\n",
        "\n",
        "\n",
        "\n",
        "\n",
        "# model = tf.keras.Sequential([\n",
        "#   tf.keras.layers.Dense(units=1, input_shape=[1])\n",
        "# ])\n",
        "# model.compile(loss='mean_squared_error',\n",
        "#               optimizer=tf.keras.optimizers.Adam(0.1))\n",
        "# history = model.fit(celsius_q, fahrenheit_a, epochs=500, verbose=False)\n",
        "# print(\"Finished training the model\")"
      ],
      "execution_count": 0,
      "outputs": [
        {
          "output_type": "execute_result",
          "data": {
            "text/plain": [
              "RandomForestClassifier(bootstrap=True, class_weight=None, criterion='entropy',\n",
              "            max_depth=None, max_features='auto', max_leaf_nodes=None,\n",
              "            min_impurity_decrease=0.0, min_impurity_split=None,\n",
              "            min_samples_leaf=1, min_samples_split=2,\n",
              "            min_weight_fraction_leaf=0.0, n_estimators=12, n_jobs=None,\n",
              "            oob_score=False, random_state=1337, verbose=0,\n",
              "            warm_start=False)"
            ]
          },
          "metadata": {
            "tags": []
          },
          "execution_count": 83
        }
      ]
    },
    {
      "cell_type": "code",
      "metadata": {
        "id": "YjtXHTnOne3T",
        "colab_type": "code",
        "colab": {}
      },
      "source": [
        "y_pred = model.predict(X_test.fillna(0))\n",
        "\n",
        "#y_pred_decision=model.predict(X_test.fillna(0))"
      ],
      "execution_count": 0,
      "outputs": []
    },
    {
      "cell_type": "code",
      "metadata": {
        "id": "Fl4c0cK8nmJ-",
        "colab_type": "code",
        "outputId": "938db101-8427-4359-c6cd-53a965c0ca86",
        "colab": {
          "base_uri": "https://localhost:8080/",
          "height": 34
        }
      },
      "source": [
        "from sklearn.metrics import confusion_matrix,accuracy_score\n",
        "# cm = confusion_matrix(y_test, y_pred)\n",
        "accuracy_score(y_test,y_pred)\n",
        "\n",
        "#accuracy_score(y_test,y_pred_decision)\n"
      ],
      "execution_count": 0,
      "outputs": [
        {
          "output_type": "execute_result",
          "data": {
            "text/plain": [
              "0.8333333333333334"
            ]
          },
          "metadata": {
            "tags": []
          },
          "execution_count": 85
        }
      ]
    },
    {
      "cell_type": "code",
      "metadata": {
        "id": "2ccs-alMpLsX",
        "colab_type": "code",
        "colab": {}
      },
      "source": [
        "df_test=pd.read_csv('test.csv')\n",
        "labelencoder_X = LabelEncoder()\n",
        "df_test['Sex'] = labelencoder_X.fit_transform(df_test['Sex'])\n",
        "df_test['Embarked'] = labelencoder_X.fit_transform(df_test['Embarked'].astype(str))\n",
        "df_test['Survived']=model.predict(df_test[feature].fillna(0))\n",
        "df_test[['PassengerId','Survived']].to_csv('gender_submission.csv',index=False)"
      ],
      "execution_count": 0,
      "outputs": []
    }
  ]
}