{
  "nbformat": 4,
  "nbformat_minor": 0,
  "metadata": {
    "colab": {
      "name": "ZS_Challenge_Using_Nueral_Networks.ipynb",
      "version": "0.3.2",
      "provenance": [],
      "include_colab_link": true
    },
    "kernelspec": {
      "name": "python3",
      "display_name": "Python 3"
    }
  },
  "cells": [
    {
      "cell_type": "markdown",
      "metadata": {
        "id": "view-in-github",
        "colab_type": "text"
      },
      "source": [
        "<a href=\"https://colab.research.google.com/github/yuvrajtu/deeplearning/blob/master/ZS_Challenge_Using_Nueral_Networks.ipynb\" target=\"_parent\"><img src=\"https://colab.research.google.com/assets/colab-badge.svg\" alt=\"Open In Colab\"/></a>"
      ]
    },
    {
      "cell_type": "code",
      "metadata": {
        "id": "SvJm1Pe1FJAR",
        "colab_type": "code",
        "outputId": "80d59659-286f-40b1-8395-85934e0cbdd0",
        "colab": {
          "base_uri": "https://localhost:8080/",
          "height": 125
        }
      },
      "source": [
        "from google.colab import drive\n",
        "drive.mount('/content/drive')\n"
      ],
      "execution_count": 1,
      "outputs": [
        {
          "output_type": "stream",
          "text": [
            "Go to this URL in a browser: https://accounts.google.com/o/oauth2/auth?client_id=947318989803-6bn6qk8qdgf4n4g3pfee6491hc0brc4i.apps.googleusercontent.com&redirect_uri=urn%3Aietf%3Awg%3Aoauth%3A2.0%3Aoob&scope=email%20https%3A%2F%2Fwww.googleapis.com%2Fauth%2Fdocs.test%20https%3A%2F%2Fwww.googleapis.com%2Fauth%2Fdrive%20https%3A%2F%2Fwww.googleapis.com%2Fauth%2Fdrive.photos.readonly%20https%3A%2F%2Fwww.googleapis.com%2Fauth%2Fpeopleapi.readonly&response_type=code\n",
            "\n",
            "Enter your authorization code:\n",
            "··········\n",
            "Mounted at /content/drive\n"
          ],
          "name": "stdout"
        }
      ]
    },
    {
      "cell_type": "code",
      "metadata": {
        "id": "783vyK73GDN3",
        "colab_type": "code",
        "colab": {}
      },
      "source": [
        "import pandas as pd\n",
        "df=pd.read_csv(\"/content/drive/My Drive/zschallenge/data.csv\")\n",
        "df.drop(['remaining_min.1','power_of_shot.1','knockout_match.1','remaining_sec.1','distance_of_shot.1'],axis=1,inplace=True)"
      ],
      "execution_count": 0,
      "outputs": []
    },
    {
      "cell_type": "code",
      "metadata": {
        "id": "2vFNkwUxH3BN",
        "colab_type": "code",
        "colab": {}
      },
      "source": [
        "features=['location_x','location_y','remaining_min','power_of_shot','remaining_sec','distance_of_shot','area_of_shot','shot_basics','range_of_shot','type_of_shot','type_of_combined_shot']\n",
        "df['location_x'].fillna(value=-245,inplace=True)\n",
        "df['location_y'].fillna(value=-39.0,inplace=True)\n",
        "df['power_of_shot'].fillna(value=7.0,inplace=True)\n",
        "df['remaining_sec'].fillna(value=11.0,inplace=True)\n",
        "df['remaining_min'].fillna(value=7.0,inplace=True)\n",
        "df['distance_of_shot'].fillna(value=28.0,inplace=True)\n",
        "df['area_of_shot'].fillna(value='Center(C)',inplace=True)\n",
        "df['shot_basics'].fillna(value='Goal Line',inplace=True)\n",
        "df['range_of_shot'].fillna(value='16-24 ft.',inplace=True)\n",
        "df['type_of_shot'].fillna(value='shot-1',inplace=True)\n",
        "df['type_of_combined_shot'].fillna(value='shot-2',inplace=True)\n",
        "#handling categorical values\n",
        "from sklearn.preprocessing import LabelEncoder, OneHotEncoder\n",
        "labelencoder_X = LabelEncoder()\n",
        "df['area_of_shot'] = labelencoder_X.fit_transform(df['area_of_shot'])\n",
        "df['shot_basics'] = labelencoder_X.fit_transform(df['shot_basics'])\n",
        "df['type_of_shot'] = labelencoder_X.fit_transform(df['type_of_shot'])\n",
        "df['range_of_shot'] = labelencoder_X.fit_transform(df['range_of_shot'])\n",
        "df['type_of_combined_shot'] = labelencoder_X.fit_transform(df['type_of_combined_shot'])"
      ],
      "execution_count": 0,
      "outputs": []
    },
    {
      "cell_type": "code",
      "metadata": {
        "id": "oH92J718JRiv",
        "colab_type": "code",
        "colab": {}
      },
      "source": [
        "dataset=df[df.is_goal.notnull()]\n",
        "submissionset=df[df.is_goal.isnull()]\n",
        "\n"
      ],
      "execution_count": 0,
      "outputs": []
    },
    {
      "cell_type": "code",
      "metadata": {
        "id": "O_8Kd1I7J7IU",
        "colab_type": "code",
        "outputId": "4164f88e-ced3-4538-dcd0-fd6e6406a003",
        "colab": {
          "base_uri": "https://localhost:8080/",
          "height": 140
        }
      },
      "source": [
        "from sklearn.model_selection import train_test_split\n",
        "X=dataset[features]\n",
        "X=(X-X.min())/(X.max()-X.min())\n",
        "import torch\n",
        "Y=dataset.is_goal\n",
        "X_train, X_test, y_train, y_test = train_test_split(X, Y, test_size = 0.10, random_state = 100)\n",
        "print(X_train.to_numpy())"
      ],
      "execution_count": 6,
      "outputs": [
        {
          "output_type": "stream",
          "text": [
            "[[0.23895582 0.31616766 0.27272727 ... 0.25       0.43859649 1.        ]\n",
            " [0.45582329 0.05628743 0.27272727 ... 1.         1.         0.66666667]\n",
            " [0.01004016 0.32814371 0.18181818 ... 0.25       1.         0.5       ]\n",
            " ...\n",
            " [0.86144578 0.08023952 0.18181818 ... 0.         0.56140351 1.        ]\n",
            " [0.60240964 0.0994012  0.         ... 1.         1.         0.5       ]\n",
            " [0.01807229 0.0742515  0.27272727 ... 0.25       1.         0.5       ]]\n"
          ],
          "name": "stdout"
        }
      ]
    },
    {
      "cell_type": "code",
      "metadata": {
        "id": "-GbTncXUe_Kf",
        "colab_type": "code",
        "outputId": "74f64bdc-984c-4c1b-8174-1a71b7b3e669",
        "colab": {
          "base_uri": "https://localhost:8080/",
          "height": 862
        }
      },
      "source": [
        "import tensorflow as tf\n",
        "import numpy as np\n",
        "model = tf.keras.Sequential([\n",
        "    \n",
        "  tf.keras.layers.Dense(units=11,input_shape=[11]),\n",
        "  tf.keras.layers.Dense(11, activation=tf.nn.relu),\n",
        "#   tf.keras.layers.Dense(7, activation=tf.nn.sigmoid),\n",
        "    tf.keras.layers.Dense(11, activation=tf.nn.tanh),\n",
        "    tf.keras.layers.Dense(3, activation=tf.nn.relu),\n",
        "    tf.keras.layers.Dense(1)\n",
        "])\n",
        "model.compile(optimizer='adam', \n",
        "              loss='binary_crossentropy',\n",
        "              metrics=['accuracy'])\n",
        "\n",
        "history = model.fit(X_train.to_numpy(), y_train.to_numpy(), epochs=100)\n",
        "y_pred = model.predict(X_test.to_numpy())\n",
        "print(y_pred)\n",
        "y_pred.shape"
      ],
      "execution_count": 19,
      "outputs": [
        {
          "output_type": "stream",
          "text": [
            "Epoch 1/20\n",
            "19543/19543 [==============================] - 1s 73us/sample - loss: 0.8298 - acc: 0.5646\n",
            "Epoch 2/20\n",
            "19543/19543 [==============================] - 1s 57us/sample - loss: 0.6758 - acc: 0.5915\n",
            "Epoch 3/20\n",
            "19543/19543 [==============================] - 1s 56us/sample - loss: 0.6736 - acc: 0.5954\n",
            "Epoch 4/20\n",
            "19543/19543 [==============================] - 1s 56us/sample - loss: 0.6720 - acc: 0.5966\n",
            "Epoch 5/20\n",
            "19543/19543 [==============================] - 1s 56us/sample - loss: 0.6707 - acc: 0.5971\n",
            "Epoch 6/20\n",
            "19543/19543 [==============================] - 1s 57us/sample - loss: 0.6700 - acc: 0.5973\n",
            "Epoch 7/20\n",
            "19543/19543 [==============================] - 1s 54us/sample - loss: 0.6691 - acc: 0.5978\n",
            "Epoch 8/20\n",
            "19543/19543 [==============================] - 1s 55us/sample - loss: 0.6684 - acc: 0.5985\n",
            "Epoch 9/20\n",
            "19543/19543 [==============================] - 1s 54us/sample - loss: 0.6679 - acc: 0.5969\n",
            "Epoch 10/20\n",
            "19543/19543 [==============================] - 1s 56us/sample - loss: 0.6670 - acc: 0.5981\n",
            "Epoch 11/20\n",
            "19543/19543 [==============================] - 1s 57us/sample - loss: 0.6657 - acc: 0.6006\n",
            "Epoch 12/20\n",
            "19543/19543 [==============================] - 1s 57us/sample - loss: 0.6649 - acc: 0.5996\n",
            "Epoch 13/20\n",
            "19543/19543 [==============================] - 1s 57us/sample - loss: 0.6637 - acc: 0.5976\n",
            "Epoch 14/20\n",
            "19543/19543 [==============================] - 1s 58us/sample - loss: 0.6617 - acc: 0.5984\n",
            "Epoch 15/20\n",
            "19543/19543 [==============================] - 1s 55us/sample - loss: 0.6606 - acc: 0.5989\n",
            "Epoch 16/20\n",
            "19543/19543 [==============================] - 1s 57us/sample - loss: 0.6597 - acc: 0.5978\n",
            "Epoch 17/20\n",
            "19543/19543 [==============================] - 1s 57us/sample - loss: 0.6614 - acc: 0.5969\n",
            "Epoch 18/20\n",
            "19543/19543 [==============================] - 1s 57us/sample - loss: 0.6608 - acc: 0.6003\n",
            "Epoch 19/20\n",
            "19543/19543 [==============================] - 1s 57us/sample - loss: 0.6577 - acc: 0.6007\n",
            "Epoch 20/20\n",
            "19543/19543 [==============================] - 1s 56us/sample - loss: 0.6587 - acc: 0.6031\n",
            "[[0.5497999 ]\n",
            " [0.4150549 ]\n",
            " [0.3797091 ]\n",
            " ...\n",
            " [0.37550318]\n",
            " [0.44995826]\n",
            " [0.41291475]]\n"
          ],
          "name": "stdout"
        },
        {
          "output_type": "execute_result",
          "data": {
            "text/plain": [
              "(4886, 1)"
            ]
          },
          "metadata": {
            "tags": []
          },
          "execution_count": 19
        }
      ]
    },
    {
      "cell_type": "code",
      "metadata": {
        "id": "X8UwmFX0KZkM",
        "colab_type": "code",
        "outputId": "02266bda-edc6-4669-8c72-274a7f8dbaa9",
        "colab": {
          "base_uri": "https://localhost:8080/",
          "height": 122
        }
      },
      "source": [
        "Y=submissionset[features]\n",
        "Y=(Y-Y.min())/(Y.max()-Y.min())\n",
        "submissionset['is_goal']=model.predict(Y.to_numpy())\n",
        "submissionset=submissionset.dropna(how='any')\n",
        "submissionset[['shot_id_number','is_goal']].to_csv('/content/drive/My Drive/zschallenge/submission6.csv',index=False)"
      ],
      "execution_count": 20,
      "outputs": [
        {
          "output_type": "stream",
          "text": [
            "/usr/local/lib/python3.6/dist-packages/ipykernel_launcher.py:3: SettingWithCopyWarning: \n",
            "A value is trying to be set on a copy of a slice from a DataFrame.\n",
            "Try using .loc[row_indexer,col_indexer] = value instead\n",
            "\n",
            "See the caveats in the documentation: http://pandas.pydata.org/pandas-docs/stable/indexing.html#indexing-view-versus-copy\n",
            "  This is separate from the ipykernel package so we can avoid doing imports until\n"
          ],
          "name": "stderr"
        }
      ]
    }
  ]
}